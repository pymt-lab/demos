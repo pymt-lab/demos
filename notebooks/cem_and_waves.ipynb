{
 "cells": [
  {
   "cell_type": "markdown",
   "metadata": {},
   "source": [
    "<img src=\"images/csdms_logo.jpg\">"
   ]
  },
  {
   "cell_type": "markdown",
   "metadata": {},
   "source": [
    "# Using a BMI: Coupling Waves and Coastline Evolution Model\n",
    "This example explores how to use a BMI implementation to couple the Waves component with the Coastline Evolution Model component.\n",
    "\n",
    "## Links\n",
    "* [CEM source code](https://github.com/csdms/cem-old): Look at the files that have *deltas* in their name.\n",
    "* [CEM description on CSDMS](http://csdms.colorado.edu/wiki/Model_help:CEM): Detailed information on the CEM model."
   ]
  },
  {
   "cell_type": "markdown",
   "metadata": {},
   "source": [
    "# Interacting with the Coastline Evolution Model BMI using Python"
   ]
  },
  {
   "cell_type": "markdown",
   "metadata": {},
   "source": [
    "Some magic that allows us to view images within the notebook."
   ]
  },
  {
   "cell_type": "code",
   "execution_count": 1,
   "metadata": {
    "collapsed": false
   },
   "outputs": [],
   "source": [
    "%matplotlib inline\n",
    "import numpy as np"
   ]
  },
  {
   "cell_type": "markdown",
   "metadata": {},
   "source": [
    "Import the `Cem` class, and instantiate it. In Python, a model with a BMI will have no arguments for its constructor. Note that although the class has been instantiated, it's not yet ready to be run. We'll get to that later!"
   ]
  },
  {
   "cell_type": "code",
   "execution_count": 2,
   "metadata": {},
   "outputs": [
    {
     "name": "stderr",
     "output_type": "stream",
     "text": [
      "\u001b[32m✓ Avulsion\u001b[39;49;00m\n",
      "\u001b[32m✓ Plume\u001b[39;49;00m\n",
      "\u001b[32m✓ Sedflux3D\u001b[39;49;00m\n",
      "\u001b[32m✓ Subside\u001b[39;49;00m\n",
      "\u001b[32m✓ Hydrotrend\u001b[39;49;00m\n",
      "\u001b[32m✓ FrostNumber\u001b[39;49;00m\n",
      "\u001b[32m✓ Ku\u001b[39;49;00m\n",
      "\u001b[32m✓ Cem\u001b[39;49;00m\n",
      "\u001b[32m✓ Waves\u001b[39;49;00m\n",
      "\u001b[32m✓ Child\u001b[39;49;00m\n"
     ]
    }
   ],
   "source": [
    "from pymt import plugins"
   ]
  },
  {
   "cell_type": "code",
   "execution_count": 3,
   "metadata": {
    "collapsed": false
   },
   "outputs": [],
   "source": [
    "cem, waves = plugins.Cem(), plugins.Waves()"
   ]
  },
  {
   "cell_type": "markdown",
   "metadata": {},
   "source": [
    "Even though we can't run our waves model yet, we can still get some information about it. *Just don't try to run it.* Some things we can do with our model are get the names of the input variables."
   ]
  },
  {
   "cell_type": "code",
   "execution_count": 4,
   "metadata": {
    "collapsed": false
   },
   "outputs": [
    {
     "data": {
      "text/plain": [
       "('sea_surface_water_wave__min_of_increment_of_azimuth_angle_of_opposite_of_phase_velocity',\n",
       " 'sea_surface_water_wave__azimuth_angle_of_opposite_of_phase_velocity',\n",
       " 'sea_surface_water_wave__mean_of_increment_of_azimuth_angle_of_opposite_of_phase_velocity',\n",
       " 'sea_surface_water_wave__max_of_increment_of_azimuth_angle_of_opposite_of_phase_velocity',\n",
       " 'sea_surface_water_wave__height',\n",
       " 'sea_surface_water_wave__period')"
      ]
     },
     "execution_count": 4,
     "metadata": {},
     "output_type": "execute_result"
    }
   ],
   "source": [
    "waves.get_output_var_names()"
   ]
  },
  {
   "cell_type": "code",
   "execution_count": 5,
   "metadata": {
    "collapsed": false
   },
   "outputs": [
    {
     "data": {
      "text/plain": [
       "('sea_surface_water_wave__azimuth_angle_of_opposite_of_phase_velocity',\n",
       " 'land_surface_water_sediment~bedload__mass_flow_rate',\n",
       " 'sea_surface_water_wave__period',\n",
       " 'sea_surface_water_wave__height',\n",
       " 'land_surface__elevation',\n",
       " 'model__time_step')"
      ]
     },
     "execution_count": 5,
     "metadata": {},
     "output_type": "execute_result"
    }
   ],
   "source": [
    "cem.get_input_var_names()"
   ]
  },
  {
   "cell_type": "markdown",
   "metadata": {},
   "source": [
    "We can also get information about specific variables. Here we'll look at some info about wave direction. This is the main input of the Cem model. Notice that BMI components always use [CSDMS standard names](http://csdms.colorado.edu/wiki/CSDMS_Standard_Names). The CSDMS Standard Name for wave angle is,\n",
    "\n",
    "    \"sea_surface_water_wave__azimuth_angle_of_opposite_of_phase_velocity\"\n",
    "\n",
    "Quite a mouthful, I know. With that name we can get information about that variable and the grid that it is on (it's actually not a one)."
   ]
  },
  {
   "cell_type": "markdown",
   "metadata": {},
   "source": [
    "OK. We're finally ready to run the model. Well not quite. First we initialize the model with the BMI **initialize** method. Normally we would pass it a string that represents the name of an input file. For this example we'll pass **None**, which tells Cem to use some defaults."
   ]
  },
  {
   "cell_type": "code",
   "execution_count": 7,
   "metadata": {
    "collapsed": false
   },
   "outputs": [],
   "source": [
    "args = cem.setup()\n",
    "cem.initialize(*args)\n",
    "args = waves.setup()\n",
    "waves.initialize(*args)"
   ]
  },
  {
   "cell_type": "markdown",
   "metadata": {},
   "source": [
    "Here I define a convenience function for plotting the water depth and making it look pretty. You don't need to worry too much about it's internals for this tutorial. It just saves us some typing later on."
   ]
  },
  {
   "cell_type": "code",
   "execution_count": 8,
   "metadata": {
    "collapsed": false
   },
   "outputs": [],
   "source": [
    "def plot_coast(spacing, z):\n",
    "    import matplotlib.pyplot as plt\n",
    "    \n",
    "    xmin, xmax = 0., z.shape[1] * spacing[1] * 1e-3\n",
    "    ymin, ymax = 0., z.shape[0] * spacing[0] * 1e-3\n",
    "\n",
    "    plt.imshow(z, extent=[xmin, xmax, ymin, ymax], origin='lower', cmap='ocean')\n",
    "    plt.colorbar().ax.set_ylabel('Water Depth (m)')\n",
    "    plt.xlabel('Along shore (km)')\n",
    "    plt.ylabel('Cross shore (km)')"
   ]
  },
  {
   "cell_type": "markdown",
   "metadata": {},
   "source": [
    "It generates plots that look like this. We begin with a flat delta (green) and a linear coastline (y = 3 km). The bathymetry drops off linearly to the top of the domain."
   ]
  },
  {
   "cell_type": "code",
   "execution_count": 9,
   "metadata": {
    "collapsed": false
   },
   "outputs": [
    {
     "data": {
      "image/png": "[encoded data removed]",
      "text/plain": [
       "<Figure size 432x288 with 2 Axes>"
      ]
     },
     "metadata": {
      "needs_background": "light"
     },
     "output_type": "display_data"
    }
   ],
   "source": [
    "grid_id = cem.get_var_grid('sea_water__depth')\n",
    "spacing = cem.get_grid_spacing(grid_id)\n",
    "shape = cem.get_grid_shape(grid_id)\n",
    "z = np.empty(shape)\n",
    "cem.get_value('sea_water__depth', out=z)\n",
    "plot_coast(spacing, z)"
   ]
  },
  {
   "cell_type": "markdown",
   "metadata": {},
   "source": [
    "Allocate memory for the sediment discharge array and set the discharge at the coastal cell to some value."
   ]
  },
  {
   "cell_type": "code",
   "execution_count": 10,
   "metadata": {
    "collapsed": false
   },
   "outputs": [],
   "source": [
    "qs = np.zeros_like(z)\n",
    "qs[0, 100] = 750"
   ]
  },
  {
   "cell_type": "markdown",
   "metadata": {},
   "source": [
    "The CSDMS Standard Name for this variable is:\n",
    "\n",
    "    \"land_surface_water_sediment~bedload__mass_flow_rate\"\n",
    "\n",
    "You can get an idea of the units based on the quantity part of the name. \"mass_flow_rate\" indicates mass per time. You can double-check this with the BMI method function **get_var_units**."
   ]
  },
  {
   "cell_type": "code",
   "execution_count": 11,
   "metadata": {
    "collapsed": false
   },
   "outputs": [
    {
     "data": {
      "text/plain": [
       "'kg / s'"
      ]
     },
     "execution_count": 11,
     "metadata": {},
     "output_type": "execute_result"
    }
   ],
   "source": [
    "cem.get_var_units('land_surface_water_sediment~bedload__mass_flow_rate')"
   ]
  },
  {
   "cell_type": "code",
   "execution_count": 12,
   "metadata": {
    "collapsed": true
   },
   "outputs": [
    {
     "data": {
      "text/plain": [
       "array([ 7.])"
      ]
     },
     "execution_count": 12,
     "metadata": {},
     "output_type": "execute_result"
    }
   ],
   "source": [
    "waves.set_value('sea_shoreline_wave~incoming~deepwater__ashton_et_al_approach_angle_asymmetry_parameter', .3)\n",
    "waves.set_value('sea_shoreline_wave~incoming~deepwater__ashton_et_al_approach_angle_highness_parameter', .7)\n",
    "cem.set_value(\"sea_surface_water_wave__height\", 2.)\n",
    "cem.set_value(\"sea_surface_water_wave__period\", 7.)"
   ]
  },
  {
   "cell_type": "markdown",
   "metadata": {},
   "source": [
    "Set the bedload flux and run the model."
   ]
  },
  {
   "cell_type": "code",
   "execution_count": 14,
   "metadata": {
    "collapsed": false
   },
   "outputs": [
    {
     "data": {
      "text/plain": [
       "array([[ -1.,  -1.,  -1., ...,  -1.,  -1.,  -1.],\n",
       "       [ -1.,  -1.,  -1., ...,  -1.,  -1.,  -1.],\n",
       "       [ -1.,  -1.,  -1., ...,  -1.,  -1.,  -1.],\n",
       "       ..., \n",
       "       [ 26.,  26.,  26., ...,  26.,  26.,  26.],\n",
       "       [ 27.,  27.,  27., ...,  27.,  27.,  27.],\n",
       "       [ 28.,  28.,  28., ...,  28.,  28.,  28.]])"
      ]
     },
     "execution_count": 14,
     "metadata": {},
     "output_type": "execute_result"
    }
   ],
   "source": [
    "for time in range(3000):\n",
    "    waves.update()\n",
    "    angle = waves.get_value('sea_surface_water_wave__azimuth_angle_of_opposite_of_phase_velocity')\n",
    "\n",
    "    cem.set_value('sea_surface_water_wave__azimuth_angle_of_opposite_of_phase_velocity', angle)\n",
    "    cem.set_value('land_surface_water_sediment~bedload__mass_flow_rate', qs)\n",
    "    cem.update()\n",
    "\n",
    "cem.get_value('sea_water__depth', out=z)"
   ]
  },
  {
   "cell_type": "code",
   "execution_count": 15,
   "metadata": {
    "collapsed": false
   },
   "outputs": [
    {
     "data": {
      "image/png": "[encoded data removed]",
      "text/plain": [
       "<Figure size 432x288 with 2 Axes>"
      ]
     },
     "metadata": {
      "needs_background": "light"
     },
     "output_type": "display_data"
    }
   ],
   "source": [
    "plot_coast(spacing, z)"
   ]
  },
  {
   "cell_type": "markdown",
   "metadata": {},
   "source": [
    "Let's add another sediment source with a different flux and update the model."
   ]
  },
  {
   "cell_type": "code",
   "execution_count": 17,
   "metadata": {
    "collapsed": false
   },
   "outputs": [
    {
     "data": {
      "text/plain": [
       "array([[ -1.,  -1.,  -1., ...,  -1.,  -1.,  -1.],\n",
       "       [ -1.,  -1.,  -1., ...,  -1.,  -1.,  -1.],\n",
       "       [ -1.,  -1.,  -1., ...,  -1.,  -1.,  -1.],\n",
       "       ..., \n",
       "       [ 26.,  26.,  26., ...,  26.,  26.,  26.],\n",
       "       [ 27.,  27.,  27., ...,  27.,  27.,  27.],\n",
       "       [ 28.,  28.,  28., ...,  28.,  28.,  28.]])"
      ]
     },
     "execution_count": 17,
     "metadata": {},
     "output_type": "execute_result"
    }
   ],
   "source": [
    "qs[0, 150] = 500\n",
    "for time in range(3750):\n",
    "    waves.update()\n",
    "    angle = waves.get_value('sea_surface_water_wave__azimuth_angle_of_opposite_of_phase_velocity')\n",
    "    cem.set_value('sea_surface_water_wave__azimuth_angle_of_opposite_of_phase_velocity', angle)\n",
    "\n",
    "    cem.set_value('land_surface_water_sediment~bedload__mass_flow_rate', qs)\n",
    "    cem.update()\n",
    "    \n",
    "cem.get_value('sea_water__depth', out=z)"
   ]
  },
  {
   "cell_type": "code",
   "execution_count": 19,
   "metadata": {
    "collapsed": false
   },
   "outputs": [
    {
     "data": {
      "image/png": "[encoded data removed]",
      "text/plain": [
       "<Figure size 432x288 with 2 Axes>"
      ]
     },
     "metadata": {
      "needs_background": "light"
     },
     "output_type": "display_data"
    }
   ],
   "source": [
    "plot_coast(spacing, z)"
   ]
  },
  {
   "cell_type": "markdown",
   "metadata": {},
   "source": [
    "Here we shut off the sediment supply completely."
   ]
  },
  {
   "cell_type": "code",
   "execution_count": 20,
   "metadata": {
    "collapsed": false
   },
   "outputs": [
    {
     "data": {
      "text/plain": [
       "array([[ -1.,  -1.,  -1., ...,  -1.,  -1.,  -1.],\n",
       "       [ -1.,  -1.,  -1., ...,  -1.,  -1.,  -1.],\n",
       "       [ -1.,  -1.,  -1., ...,  -1.,  -1.,  -1.],\n",
       "       ..., \n",
       "       [ 26.,  26.,  26., ...,  26.,  26.,  26.],\n",
       "       [ 27.,  27.,  27., ...,  27.,  27.,  27.],\n",
       "       [ 28.,  28.,  28., ...,  28.,  28.,  28.]])"
      ]
     },
     "execution_count": 20,
     "metadata": {},
     "output_type": "execute_result"
    }
   ],
   "source": [
    "qs.fill(0.)\n",
    "for time in range(4000):\n",
    "    waves.update()\n",
    "    angle = waves.get_value('sea_surface_water_wave__azimuth_angle_of_opposite_of_phase_velocity')\n",
    "    cem.set_value('sea_surface_water_wave__azimuth_angle_of_opposite_of_phase_velocity', angle)\n",
    "\n",
    "    cem.set_value('land_surface_water_sediment~bedload__mass_flow_rate', qs)\n",
    "    cem.update()\n",
    "    \n",
    "cem.get_value('sea_water__depth', out=z)"
   ]
  },
  {
   "cell_type": "code",
   "execution_count": 21,
   "metadata": {
    "collapsed": false
   },
   "outputs": [
    {
     "data": {
      "image/png": "[encoded data removed]",
      "text/plain": [
       "<Figure size 432x288 with 2 Axes>"
      ]
     },
     "metadata": {
      "needs_background": "light"
     },
     "output_type": "display_data"
    }
   ],
   "source": [
    "plot_coast(spacing, z)"
   ]
  },
  {
   "cell_type": "code",
   "execution_count": null,
   "metadata": {},
   "outputs": [],
   "source": []
  }
 ],
 "metadata": {
  "kernelspec": {
   "display_name": "Python 3",
   "language": "python",
   "name": "python3"
  },
  "language_info": {
   "codemirror_mode": {
    "name": "ipython",
    "version": 3
   },
   "file_extension": ".py",
   "mimetype": "text/x-python",
   "name": "python",
   "nbconvert_exporter": "python",
   "pygments_lexer": "ipython3",
   "version": "3.6.6"
  }
 },
 "nbformat": 4,
 "nbformat_minor": 2
}
